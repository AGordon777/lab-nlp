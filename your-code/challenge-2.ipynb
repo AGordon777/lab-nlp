{
 "cells": [
  {
   "cell_type": "markdown",
   "metadata": {},
   "source": [
    "# Challenge 2: Sentiment Analysis\n",
    "\n",
    "In this challenge we will learn sentiment analysis and practice performing sentiment analysis on Twitter tweets. \n",
    "\n",
    "## Introduction\n",
    "\n",
    "Sentiment analysis is to *systematically identify, extract, quantify, and study affective states and subjective information* based on texts ([reference](https://en.wikipedia.org/wiki/Sentiment_analysis)). In simple words, it's to understand whether a person is happy or unhappy in producing the piece of text. Why we (or rather, companies) care about sentiment in texts? It's because by understanding the sentiments in texts, we will be able to know if our customers are happy or unhappy about our products and services. If they are unhappy, the subsequent action is to figure out what have caused the unhappiness and make improvements.\n",
    "\n",
    "Basic sentiment analysis only understands the *positive* or *negative* (sometimes *neutral* too) polarities of the sentiment. More advanced sentiment analysis will also consider dimensions such as agreement, subjectivity, confidence, irony, and so on. In this challenge we will conduct the basic positive vs negative sentiment analysis based on real Twitter tweets.\n",
    "\n",
    "NLTK comes with a [sentiment analysis package](https://www.nltk.org/api/nltk.sentiment.html). This package is great for dummies to perform sentiment analysis because it requires only the textual data to make predictions. For example:\n",
    "\n",
    "```python\n",
    ">>> from nltk.sentiment.vader import SentimentIntensityAnalyzer\n",
    ">>> txt = \"Ironhack is a Global Tech School ranked num 2 worldwide.  ",
    "\n",
    " ",
    "\n",
    "Our mission is to help people transform their careers and join a thriving community of tech professionals that love what they do.\"\n",
    ">>> analyzer = SentimentIntensityAnalyzer()\n",
    ">>> analyzer.polarity_scores(txt)\n",
    "{'neg': 0.0, 'neu': 0.741, 'pos': 0.259, 'compound': 0.8442}\n",
    "```\n",
    "\n",
    "In this challenge, however, you will not use NLTK's sentiment analysis package because in your Machine Learning training in the past 2 weeks you have learned how to make predictions more accurate than that. The [tweets data](https://www.kaggle.com/kazanova/sentiment140) we will be using today are already coded for the positive/negative sentiment. You will be able to use the Naïve Bayes classifier you learned in the lesson to predict the sentiment of tweets based on the labels."
   ]
  },
  {
   "cell_type": "markdown",
   "metadata": {},
   "source": [
    "## Conducting Sentiment Analysis\n",
    "\n",
    "### Loading and Exploring Data\n",
    "\n",
    "The dataset we'll be using today is located on Kaggle (https://www.kaggle.com/kazanova/sentiment140). Once you have downloaded and imported the dataset, it you will need to define the columns names: df.columns = ['target','id','date','flag','user','text']\n",
    "\n",
    "*Notes:* \n",
    "\n",
    "* The dataset is huuuuge (1.6m tweets). When you develop your data analysis codes, you can sample a subset of the data (e.g. 20k records) so that you will save a lot of time when you test your codes."
   ]
  },
  {
   "cell_type": "code",
   "execution_count": 1,
   "metadata": {},
   "outputs": [
    {
     "data": {
      "text/html": [
       "<div>\n",
       "<style scoped>\n",
       "    .dataframe tbody tr th:only-of-type {\n",
       "        vertical-align: middle;\n",
       "    }\n",
       "\n",
       "    .dataframe tbody tr th {\n",
       "        vertical-align: top;\n",
       "    }\n",
       "\n",
       "    .dataframe thead th {\n",
       "        text-align: right;\n",
       "    }\n",
       "</style>\n",
       "<table border=\"1\" class=\"dataframe\">\n",
       "  <thead>\n",
       "    <tr style=\"text-align: right;\">\n",
       "      <th></th>\n",
       "      <th>target</th>\n",
       "      <th>id</th>\n",
       "      <th>date</th>\n",
       "      <th>flag</th>\n",
       "      <th>user</th>\n",
       "      <th>text</th>\n",
       "    </tr>\n",
       "  </thead>\n",
       "  <tbody>\n",
       "    <tr>\n",
       "      <th>0</th>\n",
       "      <td>0</td>\n",
       "      <td>1467810369</td>\n",
       "      <td>Mon Apr 06 22:19:45 PDT 2009</td>\n",
       "      <td>NO_QUERY</td>\n",
       "      <td>_TheSpecialOne_</td>\n",
       "      <td>@switchfoot http://twitpic.com/2y1zl - Awww, t...</td>\n",
       "    </tr>\n",
       "    <tr>\n",
       "      <th>1</th>\n",
       "      <td>0</td>\n",
       "      <td>1467810672</td>\n",
       "      <td>Mon Apr 06 22:19:49 PDT 2009</td>\n",
       "      <td>NO_QUERY</td>\n",
       "      <td>scotthamilton</td>\n",
       "      <td>is upset that he can't update his Facebook by ...</td>\n",
       "    </tr>\n",
       "    <tr>\n",
       "      <th>2</th>\n",
       "      <td>0</td>\n",
       "      <td>1467810917</td>\n",
       "      <td>Mon Apr 06 22:19:53 PDT 2009</td>\n",
       "      <td>NO_QUERY</td>\n",
       "      <td>mattycus</td>\n",
       "      <td>@Kenichan I dived many times for the ball. Man...</td>\n",
       "    </tr>\n",
       "    <tr>\n",
       "      <th>3</th>\n",
       "      <td>0</td>\n",
       "      <td>1467811184</td>\n",
       "      <td>Mon Apr 06 22:19:57 PDT 2009</td>\n",
       "      <td>NO_QUERY</td>\n",
       "      <td>ElleCTF</td>\n",
       "      <td>my whole body feels itchy and like its on fire</td>\n",
       "    </tr>\n",
       "    <tr>\n",
       "      <th>4</th>\n",
       "      <td>0</td>\n",
       "      <td>1467811193</td>\n",
       "      <td>Mon Apr 06 22:19:57 PDT 2009</td>\n",
       "      <td>NO_QUERY</td>\n",
       "      <td>Karoli</td>\n",
       "      <td>@nationwideclass no, it's not behaving at all....</td>\n",
       "    </tr>\n",
       "  </tbody>\n",
       "</table>\n",
       "</div>"
      ],
      "text/plain": [
       "   target          id                          date      flag  \\\n",
       "0       0  1467810369  Mon Apr 06 22:19:45 PDT 2009  NO_QUERY   \n",
       "1       0  1467810672  Mon Apr 06 22:19:49 PDT 2009  NO_QUERY   \n",
       "2       0  1467810917  Mon Apr 06 22:19:53 PDT 2009  NO_QUERY   \n",
       "3       0  1467811184  Mon Apr 06 22:19:57 PDT 2009  NO_QUERY   \n",
       "4       0  1467811193  Mon Apr 06 22:19:57 PDT 2009  NO_QUERY   \n",
       "\n",
       "              user                                               text  \n",
       "0  _TheSpecialOne_  @switchfoot http://twitpic.com/2y1zl - Awww, t...  \n",
       "1    scotthamilton  is upset that he can't update his Facebook by ...  \n",
       "2         mattycus  @Kenichan I dived many times for the ball. Man...  \n",
       "3          ElleCTF    my whole body feels itchy and like its on fire   \n",
       "4           Karoli  @nationwideclass no, it's not behaving at all....  "
      ]
     },
     "execution_count": 1,
     "metadata": {},
     "output_type": "execute_result"
    }
   ],
   "source": [
    "# your code here\n",
    "\n",
    "import pandas as pd\n",
    "\n",
    "data = pd.read_csv('../training.1600000.processed.noemoticon.csv',encoding='ISO-8859-1',header=None)\n",
    "data.columns=['target','id','date','flag','user','text']\n",
    "\n",
    "data.head()"
   ]
  },
  {
   "cell_type": "code",
   "execution_count": 2,
   "metadata": {},
   "outputs": [
    {
     "data": {
      "text/plain": [
       "0    800000\n",
       "4    800000\n",
       "Name: target, dtype: int64"
      ]
     },
     "execution_count": 2,
     "metadata": {},
     "output_type": "execute_result"
    }
   ],
   "source": [
    "data.target.value_counts()"
   ]
  },
  {
   "cell_type": "markdown",
   "metadata": {},
   "source": [
    "### Prepare Textual Data for Sentiment Analysis\n",
    "\n",
    "Now, apply the functions you have written in Challenge 1 to your whole data set. These functions include:\n",
    "\n",
    "* `clean_up()`\n",
    "\n",
    "* `tokenize()`\n",
    "\n",
    "* `stem_and_lemmatize()`\n",
    "\n",
    "* `remove_stopwords()`\n",
    "\n",
    "Create a new column called `text_processed` in the dataframe to contain the processed data. At the end, your `text_processed` column should contain lists of word tokens that are cleaned up. Your data should look like below:\n",
    "\n",
    "![Processed Data](data-cleaning-results.png)"
   ]
  },
  {
   "cell_type": "code",
   "execution_count": 3,
   "metadata": {},
   "outputs": [],
   "source": [
    "# your code here\n",
    "\n",
    "import re\n",
    "from nltk.tokenize import word_tokenize\n",
    "# from nltk.stem import PorterStemmer\n",
    "from nltk.stem import WordNetLemmatizer\n",
    "from nltk.corpus import stopwords\n",
    "\n",
    "def clean_up(s):\n",
    "    \n",
    "    # removes urls beginning 'http' or 'www.'\n",
    "    s = re.sub('\\\\bhttp[^ ]*','',s)\n",
    "    s = re.sub('\\\\bwww.[^ ]*','',s)\n",
    "\n",
    "    # removes special characters and numbers and replaces with space\n",
    "    s = re.sub(r'[^a-zA-Z ]', ' ', s).lower()\n",
    "\n",
    "    # makes lower case\n",
    "    s = s.lower()\n",
    "\n",
    "    return s\n",
    "\n",
    "def tokenize(s):\n",
    "    return word_tokenize(s)\n",
    "\n",
    "# I will just use the lemmatizer component of this function:\n",
    "def stem_and_lemmatize(list):\n",
    "    # ps = PorterStemmer()\n",
    "    lz = WordNetLemmatizer() \n",
    "    \n",
    "    # stemmed = [ps.stem(word) for word in list]\n",
    "    lemmatized = [lz.lemmatize(word) for word in list]\n",
    "\n",
    "    return lemmatized # only want one not both\n",
    "\n",
    "def remove_stopwords(l):\n",
    "    without_sw = [word for word in l if not word in stopwords.words('english')]\n",
    "    return without_sw"
   ]
  },
  {
   "cell_type": "code",
   "execution_count": 4,
   "metadata": {},
   "outputs": [
    {
     "data": {
      "text/plain": [
       "(20000, 6)"
      ]
     },
     "metadata": {},
     "output_type": "display_data"
    },
    {
     "data": {
      "text/html": [
       "<div>\n",
       "<style scoped>\n",
       "    .dataframe tbody tr th:only-of-type {\n",
       "        vertical-align: middle;\n",
       "    }\n",
       "\n",
       "    .dataframe tbody tr th {\n",
       "        vertical-align: top;\n",
       "    }\n",
       "\n",
       "    .dataframe thead th {\n",
       "        text-align: right;\n",
       "    }\n",
       "</style>\n",
       "<table border=\"1\" class=\"dataframe\">\n",
       "  <thead>\n",
       "    <tr style=\"text-align: right;\">\n",
       "      <th></th>\n",
       "      <th>target</th>\n",
       "      <th>id</th>\n",
       "      <th>date</th>\n",
       "      <th>flag</th>\n",
       "      <th>user</th>\n",
       "      <th>text</th>\n",
       "    </tr>\n",
       "  </thead>\n",
       "  <tbody>\n",
       "    <tr>\n",
       "      <th>1062048</th>\n",
       "      <td>4</td>\n",
       "      <td>1964017646</td>\n",
       "      <td>Fri May 29 13:35:57 PDT 2009</td>\n",
       "      <td>NO_QUERY</td>\n",
       "      <td>ashakur</td>\n",
       "      <td>@PcShakur I guess so. We should go make it a f...</td>\n",
       "    </tr>\n",
       "    <tr>\n",
       "      <th>1236895</th>\n",
       "      <td>4</td>\n",
       "      <td>1992914899</td>\n",
       "      <td>Mon Jun 01 09:31:47 PDT 2009</td>\n",
       "      <td>NO_QUERY</td>\n",
       "      <td>RabbiShaiSpecht</td>\n",
       "      <td>@PsychicSophie Thank you!</td>\n",
       "    </tr>\n",
       "    <tr>\n",
       "      <th>1237054</th>\n",
       "      <td>4</td>\n",
       "      <td>1992954642</td>\n",
       "      <td>Mon Jun 01 09:35:38 PDT 2009</td>\n",
       "      <td>NO_QUERY</td>\n",
       "      <td>RobinRene7</td>\n",
       "      <td>it's just another day here at the office...I a...</td>\n",
       "    </tr>\n",
       "    <tr>\n",
       "      <th>229979</th>\n",
       "      <td>0</td>\n",
       "      <td>1978627799</td>\n",
       "      <td>Sat May 30 23:57:09 PDT 2009</td>\n",
       "      <td>NO_QUERY</td>\n",
       "      <td>valfvergara</td>\n",
       "      <td>@triciasays i miss kickboxing</td>\n",
       "    </tr>\n",
       "    <tr>\n",
       "      <th>760772</th>\n",
       "      <td>0</td>\n",
       "      <td>2296927988</td>\n",
       "      <td>Tue Jun 23 09:48:35 PDT 2009</td>\n",
       "      <td>NO_QUERY</td>\n",
       "      <td>SarahAnnGreen</td>\n",
       "      <td>@AmandaFClark Thats rubbish!</td>\n",
       "    </tr>\n",
       "  </tbody>\n",
       "</table>\n",
       "</div>"
      ],
      "text/plain": [
       "         target          id                          date      flag  \\\n",
       "1062048       4  1964017646  Fri May 29 13:35:57 PDT 2009  NO_QUERY   \n",
       "1236895       4  1992914899  Mon Jun 01 09:31:47 PDT 2009  NO_QUERY   \n",
       "1237054       4  1992954642  Mon Jun 01 09:35:38 PDT 2009  NO_QUERY   \n",
       "229979        0  1978627799  Sat May 30 23:57:09 PDT 2009  NO_QUERY   \n",
       "760772        0  2296927988  Tue Jun 23 09:48:35 PDT 2009  NO_QUERY   \n",
       "\n",
       "                    user                                               text  \n",
       "1062048          ashakur  @PcShakur I guess so. We should go make it a f...  \n",
       "1236895  RabbiShaiSpecht                         @PsychicSophie Thank you!   \n",
       "1237054       RobinRene7  it's just another day here at the office...I a...  \n",
       "229979       valfvergara                     @triciasays i miss kickboxing   \n",
       "760772     SarahAnnGreen                      @AmandaFClark Thats rubbish!   "
      ]
     },
     "execution_count": 4,
     "metadata": {},
     "output_type": "execute_result"
    }
   ],
   "source": [
    "# take a sample of the dataset\n",
    "sample=data.sample(n=20000,random_state=1234)\n",
    "display(sample.shape)\n",
    "sample.head()"
   ]
  },
  {
   "cell_type": "code",
   "execution_count": 5,
   "metadata": {},
   "outputs": [
    {
     "name": "stdout",
     "output_type": "stream",
     "text": [
      "CPU times: total: 1min 4s\n",
      "Wall time: 1min 4s\n"
     ]
    }
   ],
   "source": [
    "%%time\n",
    "\n",
    "clean = sample['text'].apply(clean_up)\n",
    "\n",
    "token = clean.apply(tokenize)\n",
    "\n",
    "lemmatized = token.apply(stem_and_lemmatize)\n",
    "\n",
    "text_processed = lemmatized.apply(remove_stopwords)"
   ]
  },
  {
   "cell_type": "code",
   "execution_count": 6,
   "metadata": {},
   "outputs": [
    {
     "data": {
      "text/html": [
       "<div>\n",
       "<style scoped>\n",
       "    .dataframe tbody tr th:only-of-type {\n",
       "        vertical-align: middle;\n",
       "    }\n",
       "\n",
       "    .dataframe tbody tr th {\n",
       "        vertical-align: top;\n",
       "    }\n",
       "\n",
       "    .dataframe thead th {\n",
       "        text-align: right;\n",
       "    }\n",
       "</style>\n",
       "<table border=\"1\" class=\"dataframe\">\n",
       "  <thead>\n",
       "    <tr style=\"text-align: right;\">\n",
       "      <th></th>\n",
       "      <th>target</th>\n",
       "      <th>id</th>\n",
       "      <th>date</th>\n",
       "      <th>flag</th>\n",
       "      <th>user</th>\n",
       "      <th>text</th>\n",
       "      <th>text_processed</th>\n",
       "    </tr>\n",
       "  </thead>\n",
       "  <tbody>\n",
       "    <tr>\n",
       "      <th>1062048</th>\n",
       "      <td>4</td>\n",
       "      <td>1964017646</td>\n",
       "      <td>Fri May 29 13:35:57 PDT 2009</td>\n",
       "      <td>NO_QUERY</td>\n",
       "      <td>ashakur</td>\n",
       "      <td>@PcShakur I guess so. We should go make it a f...</td>\n",
       "      <td>[pcshakur, guess, go, make, family, affair]</td>\n",
       "    </tr>\n",
       "    <tr>\n",
       "      <th>1236895</th>\n",
       "      <td>4</td>\n",
       "      <td>1992914899</td>\n",
       "      <td>Mon Jun 01 09:31:47 PDT 2009</td>\n",
       "      <td>NO_QUERY</td>\n",
       "      <td>RabbiShaiSpecht</td>\n",
       "      <td>@PsychicSophie Thank you!</td>\n",
       "      <td>[psychicsophie, thank]</td>\n",
       "    </tr>\n",
       "    <tr>\n",
       "      <th>1237054</th>\n",
       "      <td>4</td>\n",
       "      <td>1992954642</td>\n",
       "      <td>Mon Jun 01 09:35:38 PDT 2009</td>\n",
       "      <td>NO_QUERY</td>\n",
       "      <td>RobinRene7</td>\n",
       "      <td>it's just another day here at the office...I a...</td>\n",
       "      <td>[another, day, office, ready, tonight, back, p...</td>\n",
       "    </tr>\n",
       "    <tr>\n",
       "      <th>229979</th>\n",
       "      <td>0</td>\n",
       "      <td>1978627799</td>\n",
       "      <td>Sat May 30 23:57:09 PDT 2009</td>\n",
       "      <td>NO_QUERY</td>\n",
       "      <td>valfvergara</td>\n",
       "      <td>@triciasays i miss kickboxing</td>\n",
       "      <td>[triciasays, miss, kickboxing]</td>\n",
       "    </tr>\n",
       "    <tr>\n",
       "      <th>760772</th>\n",
       "      <td>0</td>\n",
       "      <td>2296927988</td>\n",
       "      <td>Tue Jun 23 09:48:35 PDT 2009</td>\n",
       "      <td>NO_QUERY</td>\n",
       "      <td>SarahAnnGreen</td>\n",
       "      <td>@AmandaFClark Thats rubbish!</td>\n",
       "      <td>[amandafclark, thats, rubbish]</td>\n",
       "    </tr>\n",
       "  </tbody>\n",
       "</table>\n",
       "</div>"
      ],
      "text/plain": [
       "         target          id                          date      flag  \\\n",
       "1062048       4  1964017646  Fri May 29 13:35:57 PDT 2009  NO_QUERY   \n",
       "1236895       4  1992914899  Mon Jun 01 09:31:47 PDT 2009  NO_QUERY   \n",
       "1237054       4  1992954642  Mon Jun 01 09:35:38 PDT 2009  NO_QUERY   \n",
       "229979        0  1978627799  Sat May 30 23:57:09 PDT 2009  NO_QUERY   \n",
       "760772        0  2296927988  Tue Jun 23 09:48:35 PDT 2009  NO_QUERY   \n",
       "\n",
       "                    user                                               text  \\\n",
       "1062048          ashakur  @PcShakur I guess so. We should go make it a f...   \n",
       "1236895  RabbiShaiSpecht                         @PsychicSophie Thank you!    \n",
       "1237054       RobinRene7  it's just another day here at the office...I a...   \n",
       "229979       valfvergara                     @triciasays i miss kickboxing    \n",
       "760772     SarahAnnGreen                      @AmandaFClark Thats rubbish!    \n",
       "\n",
       "                                            text_processed  \n",
       "1062048        [pcshakur, guess, go, make, family, affair]  \n",
       "1236895                             [psychicsophie, thank]  \n",
       "1237054  [another, day, office, ready, tonight, back, p...  \n",
       "229979                      [triciasays, miss, kickboxing]  \n",
       "760772                      [amandafclark, thats, rubbish]  "
      ]
     },
     "execution_count": 6,
     "metadata": {},
     "output_type": "execute_result"
    }
   ],
   "source": [
    "sample['text_processed'] = text_processed\n",
    "\n",
    "sample.head()"
   ]
  },
  {
   "cell_type": "code",
   "execution_count": null,
   "metadata": {},
   "outputs": [],
   "source": [
    "# sample.to_csv('sample.csv')"
   ]
  },
  {
   "cell_type": "markdown",
   "metadata": {},
   "source": [
    "### Creating Bag of Words\n",
    "\n",
    "The purpose of this step is to create a [bag of words](https://en.wikipedia.org/wiki/Bag-of-words_model) from the processed data. The bag of words contains all the unique words in your whole text body (a.k.a. *corpus*) with the number of occurrence of each word. It will allow you to understand which words are the most important features across the whole corpus.\n",
    "\n",
    "Also, you can imagine you will have a massive set of words. The less important words (i.e. those of very low number of occurrence) do not contribute much to the sentiment. Therefore, you only need to use the most important words to build your feature set in the next step. In our case, we will use the top 5,000 words with the highest frequency to build the features.\n",
    "\n",
    "In the cell below, combine all the words in `text_processed` and calculate the frequency distribution of all words. A convenient library to calculate the term frequency distribution is NLTK's `FreqDist` class ([documentation](https://www.nltk.org/api/nltk.html#module-nltk.probability)). Then select the top 5,000 words from the frequency distribution."
   ]
  },
  {
   "cell_type": "code",
   "execution_count": 7,
   "metadata": {},
   "outputs": [
    {
     "data": {
      "text/html": [
       "<div>\n",
       "<style scoped>\n",
       "    .dataframe tbody tr th:only-of-type {\n",
       "        vertical-align: middle;\n",
       "    }\n",
       "\n",
       "    .dataframe tbody tr th {\n",
       "        vertical-align: top;\n",
       "    }\n",
       "\n",
       "    .dataframe thead th {\n",
       "        text-align: right;\n",
       "    }\n",
       "</style>\n",
       "<table border=\"1\" class=\"dataframe\">\n",
       "  <thead>\n",
       "    <tr style=\"text-align: right;\">\n",
       "      <th></th>\n",
       "      <th>target</th>\n",
       "      <th>id</th>\n",
       "      <th>date</th>\n",
       "      <th>flag</th>\n",
       "      <th>user</th>\n",
       "      <th>text</th>\n",
       "      <th>text_processed</th>\n",
       "      <th>clean_blob</th>\n",
       "    </tr>\n",
       "  </thead>\n",
       "  <tbody>\n",
       "    <tr>\n",
       "      <th>1062048</th>\n",
       "      <td>4</td>\n",
       "      <td>1964017646</td>\n",
       "      <td>Fri May 29 13:35:57 PDT 2009</td>\n",
       "      <td>NO_QUERY</td>\n",
       "      <td>ashakur</td>\n",
       "      <td>@PcShakur I guess so. We should go make it a f...</td>\n",
       "      <td>[pcshakur, guess, go, make, family, affair]</td>\n",
       "      <td>pcshakur guess go make family affair</td>\n",
       "    </tr>\n",
       "    <tr>\n",
       "      <th>1236895</th>\n",
       "      <td>4</td>\n",
       "      <td>1992914899</td>\n",
       "      <td>Mon Jun 01 09:31:47 PDT 2009</td>\n",
       "      <td>NO_QUERY</td>\n",
       "      <td>RabbiShaiSpecht</td>\n",
       "      <td>@PsychicSophie Thank you!</td>\n",
       "      <td>[psychicsophie, thank]</td>\n",
       "      <td>psychicsophie thank</td>\n",
       "    </tr>\n",
       "    <tr>\n",
       "      <th>1237054</th>\n",
       "      <td>4</td>\n",
       "      <td>1992954642</td>\n",
       "      <td>Mon Jun 01 09:35:38 PDT 2009</td>\n",
       "      <td>NO_QUERY</td>\n",
       "      <td>RobinRene7</td>\n",
       "      <td>it's just another day here at the office...I a...</td>\n",
       "      <td>[another, day, office, ready, tonight, back, p...</td>\n",
       "      <td>another day office ready tonight back playing ...</td>\n",
       "    </tr>\n",
       "    <tr>\n",
       "      <th>229979</th>\n",
       "      <td>0</td>\n",
       "      <td>1978627799</td>\n",
       "      <td>Sat May 30 23:57:09 PDT 2009</td>\n",
       "      <td>NO_QUERY</td>\n",
       "      <td>valfvergara</td>\n",
       "      <td>@triciasays i miss kickboxing</td>\n",
       "      <td>[triciasays, miss, kickboxing]</td>\n",
       "      <td>triciasays miss kickboxing</td>\n",
       "    </tr>\n",
       "    <tr>\n",
       "      <th>760772</th>\n",
       "      <td>0</td>\n",
       "      <td>2296927988</td>\n",
       "      <td>Tue Jun 23 09:48:35 PDT 2009</td>\n",
       "      <td>NO_QUERY</td>\n",
       "      <td>SarahAnnGreen</td>\n",
       "      <td>@AmandaFClark Thats rubbish!</td>\n",
       "      <td>[amandafclark, thats, rubbish]</td>\n",
       "      <td>amandafclark thats rubbish</td>\n",
       "    </tr>\n",
       "  </tbody>\n",
       "</table>\n",
       "</div>"
      ],
      "text/plain": [
       "         target          id                          date      flag  \\\n",
       "1062048       4  1964017646  Fri May 29 13:35:57 PDT 2009  NO_QUERY   \n",
       "1236895       4  1992914899  Mon Jun 01 09:31:47 PDT 2009  NO_QUERY   \n",
       "1237054       4  1992954642  Mon Jun 01 09:35:38 PDT 2009  NO_QUERY   \n",
       "229979        0  1978627799  Sat May 30 23:57:09 PDT 2009  NO_QUERY   \n",
       "760772        0  2296927988  Tue Jun 23 09:48:35 PDT 2009  NO_QUERY   \n",
       "\n",
       "                    user                                               text  \\\n",
       "1062048          ashakur  @PcShakur I guess so. We should go make it a f...   \n",
       "1236895  RabbiShaiSpecht                         @PsychicSophie Thank you!    \n",
       "1237054       RobinRene7  it's just another day here at the office...I a...   \n",
       "229979       valfvergara                     @triciasays i miss kickboxing    \n",
       "760772     SarahAnnGreen                      @AmandaFClark Thats rubbish!    \n",
       "\n",
       "                                            text_processed  \\\n",
       "1062048        [pcshakur, guess, go, make, family, affair]   \n",
       "1236895                             [psychicsophie, thank]   \n",
       "1237054  [another, day, office, ready, tonight, back, p...   \n",
       "229979                      [triciasays, miss, kickboxing]   \n",
       "760772                      [amandafclark, thats, rubbish]   \n",
       "\n",
       "                                                clean_blob  \n",
       "1062048               pcshakur guess go make family affair  \n",
       "1236895                                psychicsophie thank  \n",
       "1237054  another day office ready tonight back playing ...  \n",
       "229979                          triciasays miss kickboxing  \n",
       "760772                          amandafclark thats rubbish  "
      ]
     },
     "execution_count": 7,
     "metadata": {},
     "output_type": "execute_result"
    }
   ],
   "source": [
    "# consolidate these all back into a \"blob\"\n",
    "def re_blob(row):\n",
    "    return \" \".join(row['text_processed'])\n",
    "sample['clean_blob'] = sample.apply(re_blob,axis=1)\n",
    "\n",
    "sample.head()"
   ]
  },
  {
   "cell_type": "code",
   "execution_count": 8,
   "metadata": {},
   "outputs": [
    {
     "data": {
      "text/html": [
       "<style>#sk-container-id-1 {color: black;background-color: white;}#sk-container-id-1 pre{padding: 0;}#sk-container-id-1 div.sk-toggleable {background-color: white;}#sk-container-id-1 label.sk-toggleable__label {cursor: pointer;display: block;width: 100%;margin-bottom: 0;padding: 0.3em;box-sizing: border-box;text-align: center;}#sk-container-id-1 label.sk-toggleable__label-arrow:before {content: \"▸\";float: left;margin-right: 0.25em;color: #696969;}#sk-container-id-1 label.sk-toggleable__label-arrow:hover:before {color: black;}#sk-container-id-1 div.sk-estimator:hover label.sk-toggleable__label-arrow:before {color: black;}#sk-container-id-1 div.sk-toggleable__content {max-height: 0;max-width: 0;overflow: hidden;text-align: left;background-color: #f0f8ff;}#sk-container-id-1 div.sk-toggleable__content pre {margin: 0.2em;color: black;border-radius: 0.25em;background-color: #f0f8ff;}#sk-container-id-1 input.sk-toggleable__control:checked~div.sk-toggleable__content {max-height: 200px;max-width: 100%;overflow: auto;}#sk-container-id-1 input.sk-toggleable__control:checked~label.sk-toggleable__label-arrow:before {content: \"▾\";}#sk-container-id-1 div.sk-estimator input.sk-toggleable__control:checked~label.sk-toggleable__label {background-color: #d4ebff;}#sk-container-id-1 div.sk-label input.sk-toggleable__control:checked~label.sk-toggleable__label {background-color: #d4ebff;}#sk-container-id-1 input.sk-hidden--visually {border: 0;clip: rect(1px 1px 1px 1px);clip: rect(1px, 1px, 1px, 1px);height: 1px;margin: -1px;overflow: hidden;padding: 0;position: absolute;width: 1px;}#sk-container-id-1 div.sk-estimator {font-family: monospace;background-color: #f0f8ff;border: 1px dotted black;border-radius: 0.25em;box-sizing: border-box;margin-bottom: 0.5em;}#sk-container-id-1 div.sk-estimator:hover {background-color: #d4ebff;}#sk-container-id-1 div.sk-parallel-item::after {content: \"\";width: 100%;border-bottom: 1px solid gray;flex-grow: 1;}#sk-container-id-1 div.sk-label:hover label.sk-toggleable__label {background-color: #d4ebff;}#sk-container-id-1 div.sk-serial::before {content: \"\";position: absolute;border-left: 1px solid gray;box-sizing: border-box;top: 0;bottom: 0;left: 50%;z-index: 0;}#sk-container-id-1 div.sk-serial {display: flex;flex-direction: column;align-items: center;background-color: white;padding-right: 0.2em;padding-left: 0.2em;position: relative;}#sk-container-id-1 div.sk-item {position: relative;z-index: 1;}#sk-container-id-1 div.sk-parallel {display: flex;align-items: stretch;justify-content: center;background-color: white;position: relative;}#sk-container-id-1 div.sk-item::before, #sk-container-id-1 div.sk-parallel-item::before {content: \"\";position: absolute;border-left: 1px solid gray;box-sizing: border-box;top: 0;bottom: 0;left: 50%;z-index: -1;}#sk-container-id-1 div.sk-parallel-item {display: flex;flex-direction: column;z-index: 1;position: relative;background-color: white;}#sk-container-id-1 div.sk-parallel-item:first-child::after {align-self: flex-end;width: 50%;}#sk-container-id-1 div.sk-parallel-item:last-child::after {align-self: flex-start;width: 50%;}#sk-container-id-1 div.sk-parallel-item:only-child::after {width: 0;}#sk-container-id-1 div.sk-dashed-wrapped {border: 1px dashed gray;margin: 0 0.4em 0.5em 0.4em;box-sizing: border-box;padding-bottom: 0.4em;background-color: white;}#sk-container-id-1 div.sk-label label {font-family: monospace;font-weight: bold;display: inline-block;line-height: 1.2em;}#sk-container-id-1 div.sk-label-container {text-align: center;}#sk-container-id-1 div.sk-container {/* jupyter's `normalize.less` sets `[hidden] { display: none; }` but bootstrap.min.css set `[hidden] { display: none !important; }` so we also need the `!important` here to be able to override the default hidden behavior on the sphinx rendered scikit-learn.org. See: https://github.com/scikit-learn/scikit-learn/issues/21755 */display: inline-block !important;position: relative;}#sk-container-id-1 div.sk-text-repr-fallback {display: none;}</style><div id=\"sk-container-id-1\" class=\"sk-top-container\"><div class=\"sk-text-repr-fallback\"><pre>CountVectorizer()</pre><b>In a Jupyter environment, please rerun this cell to show the HTML representation or trust the notebook. <br />On GitHub, the HTML representation is unable to render, please try loading this page with nbviewer.org.</b></div><div class=\"sk-container\" hidden><div class=\"sk-item\"><div class=\"sk-estimator sk-toggleable\"><input class=\"sk-toggleable__control sk-hidden--visually\" id=\"sk-estimator-id-1\" type=\"checkbox\" checked><label for=\"sk-estimator-id-1\" class=\"sk-toggleable__label sk-toggleable__label-arrow\">CountVectorizer</label><div class=\"sk-toggleable__content\"><pre>CountVectorizer()</pre></div></div></div></div></div>"
      ],
      "text/plain": [
       "CountVectorizer()"
      ]
     },
     "execution_count": 8,
     "metadata": {},
     "output_type": "execute_result"
    }
   ],
   "source": [
    "# count occurence of all unique words in the 20,000 \"blobs\"\n",
    "from sklearn.feature_extraction.text import CountVectorizer\n",
    "bow_vect = CountVectorizer()\n",
    "bow_vect.fit(sample.clean_blob)"
   ]
  },
  {
   "cell_type": "code",
   "execution_count": 9,
   "metadata": {},
   "outputs": [
    {
     "data": {
      "text/html": [
       "<div>\n",
       "<style scoped>\n",
       "    .dataframe tbody tr th:only-of-type {\n",
       "        vertical-align: middle;\n",
       "    }\n",
       "\n",
       "    .dataframe tbody tr th {\n",
       "        vertical-align: top;\n",
       "    }\n",
       "\n",
       "    .dataframe thead th {\n",
       "        text-align: right;\n",
       "    }\n",
       "</style>\n",
       "<table border=\"1\" class=\"dataframe\">\n",
       "  <thead>\n",
       "    <tr style=\"text-align: right;\">\n",
       "      <th></th>\n",
       "      <th>aa</th>\n",
       "      <th>aaaa</th>\n",
       "      <th>aaaaa</th>\n",
       "      <th>aaaaaaaaaaa</th>\n",
       "      <th>aaaaaaaaaaaaa</th>\n",
       "      <th>aaaaaaaaaaaaaaaaaaaaaaaaaaaaaaaaaaaaa</th>\n",
       "      <th>aaaaaaaaaaaaaaaargh</th>\n",
       "      <th>aaaaaaaaaaarggggggggggghhhhhhhhh</th>\n",
       "      <th>aaaaaaaahh</th>\n",
       "      <th>aaaaaand</th>\n",
       "      <th>...</th>\n",
       "      <th>zuzubrandy</th>\n",
       "      <th>zvyknu</th>\n",
       "      <th>zwinky</th>\n",
       "      <th>zyber</th>\n",
       "      <th>zyleeth</th>\n",
       "      <th>zzz</th>\n",
       "      <th>zzzz</th>\n",
       "      <th>zzzzz</th>\n",
       "      <th>zzzzzzz</th>\n",
       "      <th>zzzzzzzzzzzzzzzzzzzzzzzzzzz</th>\n",
       "    </tr>\n",
       "  </thead>\n",
       "  <tbody>\n",
       "    <tr>\n",
       "      <th>0</th>\n",
       "      <td>0</td>\n",
       "      <td>0</td>\n",
       "      <td>0</td>\n",
       "      <td>0</td>\n",
       "      <td>0</td>\n",
       "      <td>0</td>\n",
       "      <td>0</td>\n",
       "      <td>0</td>\n",
       "      <td>0</td>\n",
       "      <td>0</td>\n",
       "      <td>...</td>\n",
       "      <td>0</td>\n",
       "      <td>0</td>\n",
       "      <td>0</td>\n",
       "      <td>0</td>\n",
       "      <td>0</td>\n",
       "      <td>0</td>\n",
       "      <td>0</td>\n",
       "      <td>0</td>\n",
       "      <td>0</td>\n",
       "      <td>0</td>\n",
       "    </tr>\n",
       "    <tr>\n",
       "      <th>1</th>\n",
       "      <td>0</td>\n",
       "      <td>0</td>\n",
       "      <td>0</td>\n",
       "      <td>0</td>\n",
       "      <td>0</td>\n",
       "      <td>0</td>\n",
       "      <td>0</td>\n",
       "      <td>0</td>\n",
       "      <td>0</td>\n",
       "      <td>0</td>\n",
       "      <td>...</td>\n",
       "      <td>0</td>\n",
       "      <td>0</td>\n",
       "      <td>0</td>\n",
       "      <td>0</td>\n",
       "      <td>0</td>\n",
       "      <td>0</td>\n",
       "      <td>0</td>\n",
       "      <td>0</td>\n",
       "      <td>0</td>\n",
       "      <td>0</td>\n",
       "    </tr>\n",
       "    <tr>\n",
       "      <th>2</th>\n",
       "      <td>0</td>\n",
       "      <td>0</td>\n",
       "      <td>0</td>\n",
       "      <td>0</td>\n",
       "      <td>0</td>\n",
       "      <td>0</td>\n",
       "      <td>0</td>\n",
       "      <td>0</td>\n",
       "      <td>0</td>\n",
       "      <td>0</td>\n",
       "      <td>...</td>\n",
       "      <td>0</td>\n",
       "      <td>0</td>\n",
       "      <td>0</td>\n",
       "      <td>0</td>\n",
       "      <td>0</td>\n",
       "      <td>0</td>\n",
       "      <td>0</td>\n",
       "      <td>0</td>\n",
       "      <td>0</td>\n",
       "      <td>0</td>\n",
       "    </tr>\n",
       "    <tr>\n",
       "      <th>3</th>\n",
       "      <td>0</td>\n",
       "      <td>0</td>\n",
       "      <td>0</td>\n",
       "      <td>0</td>\n",
       "      <td>0</td>\n",
       "      <td>0</td>\n",
       "      <td>0</td>\n",
       "      <td>0</td>\n",
       "      <td>0</td>\n",
       "      <td>0</td>\n",
       "      <td>...</td>\n",
       "      <td>0</td>\n",
       "      <td>0</td>\n",
       "      <td>0</td>\n",
       "      <td>0</td>\n",
       "      <td>0</td>\n",
       "      <td>0</td>\n",
       "      <td>0</td>\n",
       "      <td>0</td>\n",
       "      <td>0</td>\n",
       "      <td>0</td>\n",
       "    </tr>\n",
       "    <tr>\n",
       "      <th>4</th>\n",
       "      <td>0</td>\n",
       "      <td>0</td>\n",
       "      <td>0</td>\n",
       "      <td>0</td>\n",
       "      <td>0</td>\n",
       "      <td>0</td>\n",
       "      <td>0</td>\n",
       "      <td>0</td>\n",
       "      <td>0</td>\n",
       "      <td>0</td>\n",
       "      <td>...</td>\n",
       "      <td>0</td>\n",
       "      <td>0</td>\n",
       "      <td>0</td>\n",
       "      <td>0</td>\n",
       "      <td>0</td>\n",
       "      <td>0</td>\n",
       "      <td>0</td>\n",
       "      <td>0</td>\n",
       "      <td>0</td>\n",
       "      <td>0</td>\n",
       "    </tr>\n",
       "  </tbody>\n",
       "</table>\n",
       "<p>5 rows × 26419 columns</p>\n",
       "</div>"
      ],
      "text/plain": [
       "   aa  aaaa  aaaaa  aaaaaaaaaaa  aaaaaaaaaaaaa  \\\n",
       "0   0     0      0            0              0   \n",
       "1   0     0      0            0              0   \n",
       "2   0     0      0            0              0   \n",
       "3   0     0      0            0              0   \n",
       "4   0     0      0            0              0   \n",
       "\n",
       "   aaaaaaaaaaaaaaaaaaaaaaaaaaaaaaaaaaaaa  aaaaaaaaaaaaaaaargh  \\\n",
       "0                                      0                    0   \n",
       "1                                      0                    0   \n",
       "2                                      0                    0   \n",
       "3                                      0                    0   \n",
       "4                                      0                    0   \n",
       "\n",
       "   aaaaaaaaaaarggggggggggghhhhhhhhh  aaaaaaaahh  aaaaaand  ...  zuzubrandy  \\\n",
       "0                                 0           0         0  ...           0   \n",
       "1                                 0           0         0  ...           0   \n",
       "2                                 0           0         0  ...           0   \n",
       "3                                 0           0         0  ...           0   \n",
       "4                                 0           0         0  ...           0   \n",
       "\n",
       "   zvyknu  zwinky  zyber  zyleeth  zzz  zzzz  zzzzz  zzzzzzz  \\\n",
       "0       0       0      0        0    0     0      0        0   \n",
       "1       0       0      0        0    0     0      0        0   \n",
       "2       0       0      0        0    0     0      0        0   \n",
       "3       0       0      0        0    0     0      0        0   \n",
       "4       0       0      0        0    0     0      0        0   \n",
       "\n",
       "   zzzzzzzzzzzzzzzzzzzzzzzzzzz  \n",
       "0                            0  \n",
       "1                            0  \n",
       "2                            0  \n",
       "3                            0  \n",
       "4                            0  \n",
       "\n",
       "[5 rows x 26419 columns]"
      ]
     },
     "execution_count": 9,
     "metadata": {},
     "output_type": "execute_result"
    }
   ],
   "source": [
    "# and put them in a dataframe\n",
    "\n",
    "bow_df = pd.DataFrame(bow_vect.transform(sample['clean_blob']).toarray(),\n",
    "                    columns=bow_vect.get_feature_names_out())\n",
    "\n",
    "bow_df.head()"
   ]
  },
  {
   "cell_type": "code",
   "execution_count": null,
   "metadata": {},
   "outputs": [],
   "source": [
    "# bow_vect.vocabulary_"
   ]
  },
  {
   "cell_type": "code",
   "execution_count": 10,
   "metadata": {},
   "outputs": [
    {
     "data": {
      "text/plain": [
       "aa                             2\n",
       "aaaa                           2\n",
       "aaaaa                          1\n",
       "aaaaaaaaaaa                    1\n",
       "aaaaaaaaaaaaa                  1\n",
       "                              ..\n",
       "zzz                            4\n",
       "zzzz                           4\n",
       "zzzzz                          1\n",
       "zzzzzzz                        1\n",
       "zzzzzzzzzzzzzzzzzzzzzzzzzzz    1\n",
       "Length: 26419, dtype: int64"
      ]
     },
     "execution_count": 10,
     "metadata": {},
     "output_type": "execute_result"
    }
   ],
   "source": [
    "# summing each column will give the total frequency of words from all blobs\n",
    "word_frequencies = bow_df.sum()\n",
    "word_frequencies"
   ]
  },
  {
   "cell_type": "code",
   "execution_count": 11,
   "metadata": {},
   "outputs": [],
   "source": [
    "# choose just the top 5000 words\n",
    "top_5000_words = word_frequencies.sort_values(ascending=False).head(5000)"
   ]
  },
  {
   "cell_type": "code",
   "execution_count": 13,
   "metadata": {},
   "outputs": [
    {
     "data": {
      "text/plain": [
       "(20000, 5000)"
      ]
     },
     "metadata": {},
     "output_type": "display_data"
    },
    {
     "data": {
      "text/html": [
       "<div>\n",
       "<style scoped>\n",
       "    .dataframe tbody tr th:only-of-type {\n",
       "        vertical-align: middle;\n",
       "    }\n",
       "\n",
       "    .dataframe tbody tr th {\n",
       "        vertical-align: top;\n",
       "    }\n",
       "\n",
       "    .dataframe thead th {\n",
       "        text-align: right;\n",
       "    }\n",
       "</style>\n",
       "<table border=\"1\" class=\"dataframe\">\n",
       "  <thead>\n",
       "    <tr style=\"text-align: right;\">\n",
       "      <th></th>\n",
       "      <th>day</th>\n",
       "      <th>wa</th>\n",
       "      <th>good</th>\n",
       "      <th>get</th>\n",
       "      <th>go</th>\n",
       "      <th>like</th>\n",
       "      <th>quot</th>\n",
       "      <th>got</th>\n",
       "      <th>love</th>\n",
       "      <th>time</th>\n",
       "      <th>...</th>\n",
       "      <th>trigger</th>\n",
       "      <th>trio</th>\n",
       "      <th>fill</th>\n",
       "      <th>tripping</th>\n",
       "      <th>tru</th>\n",
       "      <th>filet</th>\n",
       "      <th>anatomy</th>\n",
       "      <th>tuck</th>\n",
       "      <th>fiction</th>\n",
       "      <th>tuition</th>\n",
       "    </tr>\n",
       "  </thead>\n",
       "  <tbody>\n",
       "    <tr>\n",
       "      <th>0</th>\n",
       "      <td>0</td>\n",
       "      <td>0</td>\n",
       "      <td>0</td>\n",
       "      <td>0</td>\n",
       "      <td>1</td>\n",
       "      <td>0</td>\n",
       "      <td>0</td>\n",
       "      <td>0</td>\n",
       "      <td>0</td>\n",
       "      <td>0</td>\n",
       "      <td>...</td>\n",
       "      <td>0</td>\n",
       "      <td>0</td>\n",
       "      <td>0</td>\n",
       "      <td>0</td>\n",
       "      <td>0</td>\n",
       "      <td>0</td>\n",
       "      <td>0</td>\n",
       "      <td>0</td>\n",
       "      <td>0</td>\n",
       "      <td>0</td>\n",
       "    </tr>\n",
       "    <tr>\n",
       "      <th>1</th>\n",
       "      <td>0</td>\n",
       "      <td>0</td>\n",
       "      <td>0</td>\n",
       "      <td>0</td>\n",
       "      <td>0</td>\n",
       "      <td>0</td>\n",
       "      <td>0</td>\n",
       "      <td>0</td>\n",
       "      <td>0</td>\n",
       "      <td>0</td>\n",
       "      <td>...</td>\n",
       "      <td>0</td>\n",
       "      <td>0</td>\n",
       "      <td>0</td>\n",
       "      <td>0</td>\n",
       "      <td>0</td>\n",
       "      <td>0</td>\n",
       "      <td>0</td>\n",
       "      <td>0</td>\n",
       "      <td>0</td>\n",
       "      <td>0</td>\n",
       "    </tr>\n",
       "    <tr>\n",
       "      <th>2</th>\n",
       "      <td>1</td>\n",
       "      <td>0</td>\n",
       "      <td>0</td>\n",
       "      <td>0</td>\n",
       "      <td>0</td>\n",
       "      <td>0</td>\n",
       "      <td>0</td>\n",
       "      <td>0</td>\n",
       "      <td>0</td>\n",
       "      <td>0</td>\n",
       "      <td>...</td>\n",
       "      <td>0</td>\n",
       "      <td>0</td>\n",
       "      <td>0</td>\n",
       "      <td>0</td>\n",
       "      <td>0</td>\n",
       "      <td>0</td>\n",
       "      <td>0</td>\n",
       "      <td>0</td>\n",
       "      <td>0</td>\n",
       "      <td>0</td>\n",
       "    </tr>\n",
       "    <tr>\n",
       "      <th>3</th>\n",
       "      <td>0</td>\n",
       "      <td>0</td>\n",
       "      <td>0</td>\n",
       "      <td>0</td>\n",
       "      <td>0</td>\n",
       "      <td>0</td>\n",
       "      <td>0</td>\n",
       "      <td>0</td>\n",
       "      <td>0</td>\n",
       "      <td>0</td>\n",
       "      <td>...</td>\n",
       "      <td>0</td>\n",
       "      <td>0</td>\n",
       "      <td>0</td>\n",
       "      <td>0</td>\n",
       "      <td>0</td>\n",
       "      <td>0</td>\n",
       "      <td>0</td>\n",
       "      <td>0</td>\n",
       "      <td>0</td>\n",
       "      <td>0</td>\n",
       "    </tr>\n",
       "    <tr>\n",
       "      <th>4</th>\n",
       "      <td>0</td>\n",
       "      <td>0</td>\n",
       "      <td>0</td>\n",
       "      <td>0</td>\n",
       "      <td>0</td>\n",
       "      <td>0</td>\n",
       "      <td>0</td>\n",
       "      <td>0</td>\n",
       "      <td>0</td>\n",
       "      <td>0</td>\n",
       "      <td>...</td>\n",
       "      <td>0</td>\n",
       "      <td>0</td>\n",
       "      <td>0</td>\n",
       "      <td>0</td>\n",
       "      <td>0</td>\n",
       "      <td>0</td>\n",
       "      <td>0</td>\n",
       "      <td>0</td>\n",
       "      <td>0</td>\n",
       "      <td>0</td>\n",
       "    </tr>\n",
       "  </tbody>\n",
       "</table>\n",
       "<p>5 rows × 5000 columns</p>\n",
       "</div>"
      ],
      "text/plain": [
       "   day  wa  good  get  go  like  quot  got  love  time  ...  trigger  trio  \\\n",
       "0    0   0     0    0   1     0     0    0     0     0  ...        0     0   \n",
       "1    0   0     0    0   0     0     0    0     0     0  ...        0     0   \n",
       "2    1   0     0    0   0     0     0    0     0     0  ...        0     0   \n",
       "3    0   0     0    0   0     0     0    0     0     0  ...        0     0   \n",
       "4    0   0     0    0   0     0     0    0     0     0  ...        0     0   \n",
       "\n",
       "   fill  tripping  tru  filet  anatomy  tuck  fiction  tuition  \n",
       "0     0         0    0      0        0     0        0        0  \n",
       "1     0         0    0      0        0     0        0        0  \n",
       "2     0         0    0      0        0     0        0        0  \n",
       "3     0         0    0      0        0     0        0        0  \n",
       "4     0         0    0      0        0     0        0        0  \n",
       "\n",
       "[5 rows x 5000 columns]"
      ]
     },
     "execution_count": 13,
     "metadata": {},
     "output_type": "execute_result"
    }
   ],
   "source": [
    "# and filter our bag of words dataframe to just get columns for these 5000\n",
    "# df shape is 20000 samples of text across 5000 words\n",
    "top_5000_words_df = bow_df[top_5000_words.index]\n",
    "display(top_5000_words_df.shape)\n",
    "top_5000_words_df.head()"
   ]
  },
  {
   "cell_type": "code",
   "execution_count": null,
   "metadata": {},
   "outputs": [],
   "source": [
    "# realise I could have just used this earlier:\n",
    "# bow_vect = CountVectorizer(max_features=5000)\n",
    "# DOH!!!"
   ]
  },
  {
   "cell_type": "code",
   "execution_count": 15,
   "metadata": {},
   "outputs": [
    {
     "data": {
      "text/plain": [
       "20000"
      ]
     },
     "metadata": {},
     "output_type": "display_data"
    },
    {
     "data": {
      "text/plain": [
       "1062048    4\n",
       "1236895    4\n",
       "1237054    4\n",
       "229979     0\n",
       "760772     0\n",
       "Name: target, dtype: int64"
      ]
     },
     "execution_count": 15,
     "metadata": {},
     "output_type": "execute_result"
    }
   ],
   "source": [
    "display(len(sample.target))\n",
    "sample.target[0:5]"
   ]
  },
  {
   "cell_type": "markdown",
   "metadata": {},
   "source": [
    "### Building Features\n",
    "\n",
    "Now let's build the features. Using the top 5,000 words, create a 2-dimensional matrix to record whether each of those words is contained in each document (tweet). Then you also have an output column to indicate whether the sentiment in each tweet is positive. For example, assuming your bag of words has 5 items (`['one', 'two', 'three', 'four', 'five']`) out of 4 documents (`['A', 'B', 'C', 'D']`), your feature set is essentially:\n",
    "\n",
    "| Doc | one | two | three | four | five | is_positive |\n",
    "|---|---|---|---|---|---|---|\n",
    "| A | True | False | False | True | False | True |\n",
    "| B | False | False | False | True | True | False |\n",
    "| C | False | True | False | False | False | True |\n",
    "| D | True | False | False | False | True | False|\n",
    "\n",
    "However, because the `nltk.NaiveBayesClassifier.train` class we will use in the next step does not work with Pandas dataframe, the structure of your feature set should be converted to the Python list looking like below:\n",
    "\n",
    "```python\n",
    "[\n",
    "\t({\n",
    "\t\t'one': True,\n",
    "\t\t'two': False,\n",
    "\t\t'three': False,\n",
    "\t\t'four': True,\n",
    "\t\t'five': False\n",
    "\t}, True),\n",
    "\t({\n",
    "\t\t'one': False,\n",
    "\t\t'two': False,\n",
    "\t\t'three': False,\n",
    "\t\t'four': True,\n",
    "\t\t'five': True\n",
    "\t}, False),\n",
    "\t({\n",
    "\t\t'one': False,\n",
    "\t\t'two': True,\n",
    "\t\t'three': False,\n",
    "\t\t'four': False,\n",
    "\t\t'five': False\n",
    "\t}, True),\n",
    "\t({\n",
    "\t\t'one': True,\n",
    "\t\t'two': False,\n",
    "\t\t'three': False,\n",
    "\t\t'four': False,\n",
    "\t\t'five': True\n",
    "\t}, False)\n",
    "]\n",
    "```\n",
    "\n",
    "To help you in this step, watch the [following video](https://www.youtube.com/watch?v=-vVskDsHcVc) to learn how to build the feature set with Python and NLTK. The source code in this video can be found [here](https://pythonprogramming.net/words-as-features-nltk-tutorial/)."
   ]
  },
  {
   "cell_type": "markdown",
   "metadata": {},
   "source": [
    "[![Building Features](building-features.jpg)](https://www.youtube.com/watch?v=-vVskDsHcVc)"
   ]
  },
  {
   "cell_type": "code",
   "execution_count": 17,
   "metadata": {},
   "outputs": [
    {
     "data": {
      "text/plain": [
       "5000"
      ]
     },
     "execution_count": 17,
     "metadata": {},
     "output_type": "execute_result"
    }
   ],
   "source": [
    "# your code here\n",
    "words = top_5000_words_df.columns\n",
    "len(words)"
   ]
  },
  {
   "cell_type": "code",
   "execution_count": null,
   "metadata": {},
   "outputs": [],
   "source": [
    "# list(words)"
   ]
  },
  {
   "cell_type": "code",
   "execution_count": 18,
   "metadata": {},
   "outputs": [
    {
     "data": {
      "text/html": [
       "<div>\n",
       "<style scoped>\n",
       "    .dataframe tbody tr th:only-of-type {\n",
       "        vertical-align: middle;\n",
       "    }\n",
       "\n",
       "    .dataframe tbody tr th {\n",
       "        vertical-align: top;\n",
       "    }\n",
       "\n",
       "    .dataframe thead th {\n",
       "        text-align: right;\n",
       "    }\n",
       "</style>\n",
       "<table border=\"1\" class=\"dataframe\">\n",
       "  <thead>\n",
       "    <tr style=\"text-align: right;\">\n",
       "      <th></th>\n",
       "      <th>day</th>\n",
       "      <th>wa</th>\n",
       "      <th>good</th>\n",
       "      <th>get</th>\n",
       "      <th>go</th>\n",
       "      <th>like</th>\n",
       "      <th>quot</th>\n",
       "      <th>got</th>\n",
       "      <th>love</th>\n",
       "      <th>time</th>\n",
       "      <th>...</th>\n",
       "      <th>trigger</th>\n",
       "      <th>trio</th>\n",
       "      <th>fill</th>\n",
       "      <th>tripping</th>\n",
       "      <th>tru</th>\n",
       "      <th>filet</th>\n",
       "      <th>anatomy</th>\n",
       "      <th>tuck</th>\n",
       "      <th>fiction</th>\n",
       "      <th>tuition</th>\n",
       "    </tr>\n",
       "  </thead>\n",
       "  <tbody>\n",
       "    <tr>\n",
       "      <th>0</th>\n",
       "      <td>False</td>\n",
       "      <td>False</td>\n",
       "      <td>False</td>\n",
       "      <td>False</td>\n",
       "      <td>True</td>\n",
       "      <td>False</td>\n",
       "      <td>False</td>\n",
       "      <td>False</td>\n",
       "      <td>False</td>\n",
       "      <td>False</td>\n",
       "      <td>...</td>\n",
       "      <td>False</td>\n",
       "      <td>False</td>\n",
       "      <td>False</td>\n",
       "      <td>False</td>\n",
       "      <td>False</td>\n",
       "      <td>False</td>\n",
       "      <td>False</td>\n",
       "      <td>False</td>\n",
       "      <td>False</td>\n",
       "      <td>False</td>\n",
       "    </tr>\n",
       "    <tr>\n",
       "      <th>1</th>\n",
       "      <td>False</td>\n",
       "      <td>False</td>\n",
       "      <td>False</td>\n",
       "      <td>False</td>\n",
       "      <td>False</td>\n",
       "      <td>False</td>\n",
       "      <td>False</td>\n",
       "      <td>False</td>\n",
       "      <td>False</td>\n",
       "      <td>False</td>\n",
       "      <td>...</td>\n",
       "      <td>False</td>\n",
       "      <td>False</td>\n",
       "      <td>False</td>\n",
       "      <td>False</td>\n",
       "      <td>False</td>\n",
       "      <td>False</td>\n",
       "      <td>False</td>\n",
       "      <td>False</td>\n",
       "      <td>False</td>\n",
       "      <td>False</td>\n",
       "    </tr>\n",
       "    <tr>\n",
       "      <th>2</th>\n",
       "      <td>True</td>\n",
       "      <td>False</td>\n",
       "      <td>False</td>\n",
       "      <td>False</td>\n",
       "      <td>False</td>\n",
       "      <td>False</td>\n",
       "      <td>False</td>\n",
       "      <td>False</td>\n",
       "      <td>False</td>\n",
       "      <td>False</td>\n",
       "      <td>...</td>\n",
       "      <td>False</td>\n",
       "      <td>False</td>\n",
       "      <td>False</td>\n",
       "      <td>False</td>\n",
       "      <td>False</td>\n",
       "      <td>False</td>\n",
       "      <td>False</td>\n",
       "      <td>False</td>\n",
       "      <td>False</td>\n",
       "      <td>False</td>\n",
       "    </tr>\n",
       "    <tr>\n",
       "      <th>3</th>\n",
       "      <td>False</td>\n",
       "      <td>False</td>\n",
       "      <td>False</td>\n",
       "      <td>False</td>\n",
       "      <td>False</td>\n",
       "      <td>False</td>\n",
       "      <td>False</td>\n",
       "      <td>False</td>\n",
       "      <td>False</td>\n",
       "      <td>False</td>\n",
       "      <td>...</td>\n",
       "      <td>False</td>\n",
       "      <td>False</td>\n",
       "      <td>False</td>\n",
       "      <td>False</td>\n",
       "      <td>False</td>\n",
       "      <td>False</td>\n",
       "      <td>False</td>\n",
       "      <td>False</td>\n",
       "      <td>False</td>\n",
       "      <td>False</td>\n",
       "    </tr>\n",
       "    <tr>\n",
       "      <th>4</th>\n",
       "      <td>False</td>\n",
       "      <td>False</td>\n",
       "      <td>False</td>\n",
       "      <td>False</td>\n",
       "      <td>False</td>\n",
       "      <td>False</td>\n",
       "      <td>False</td>\n",
       "      <td>False</td>\n",
       "      <td>False</td>\n",
       "      <td>False</td>\n",
       "      <td>...</td>\n",
       "      <td>False</td>\n",
       "      <td>False</td>\n",
       "      <td>False</td>\n",
       "      <td>False</td>\n",
       "      <td>False</td>\n",
       "      <td>False</td>\n",
       "      <td>False</td>\n",
       "      <td>False</td>\n",
       "      <td>False</td>\n",
       "      <td>False</td>\n",
       "    </tr>\n",
       "  </tbody>\n",
       "</table>\n",
       "<p>5 rows × 5000 columns</p>\n",
       "</div>"
      ],
      "text/plain": [
       "     day     wa   good    get     go   like   quot    got   love   time  ...  \\\n",
       "0  False  False  False  False   True  False  False  False  False  False  ...   \n",
       "1  False  False  False  False  False  False  False  False  False  False  ...   \n",
       "2   True  False  False  False  False  False  False  False  False  False  ...   \n",
       "3  False  False  False  False  False  False  False  False  False  False  ...   \n",
       "4  False  False  False  False  False  False  False  False  False  False  ...   \n",
       "\n",
       "  trigger   trio   fill tripping    tru  filet anatomy   tuck fiction tuition  \n",
       "0   False  False  False    False  False  False   False  False   False   False  \n",
       "1   False  False  False    False  False  False   False  False   False   False  \n",
       "2   False  False  False    False  False  False   False  False   False   False  \n",
       "3   False  False  False    False  False  False   False  False   False   False  \n",
       "4   False  False  False    False  False  False   False  False   False   False  \n",
       "\n",
       "[5 rows x 5000 columns]"
      ]
     },
     "execution_count": 18,
     "metadata": {},
     "output_type": "execute_result"
    }
   ],
   "source": [
    "top_5000_words_df_t = top_5000_words_df.replace({0:False, 1:True})\n",
    "top_5000_words_df_t.head()"
   ]
  },
  {
   "cell_type": "code",
   "execution_count": null,
   "metadata": {},
   "outputs": [],
   "source": [
    "# I built the following function with a small section of the dataframe\n",
    "# top_5000_words_df_t.iloc[:3,:5]"
   ]
  },
  {
   "cell_type": "code",
   "execution_count": null,
   "metadata": {},
   "outputs": [],
   "source": [
    "# top_5000_words_df_t.day.iloc[2]"
   ]
  },
  {
   "cell_type": "code",
   "execution_count": 19,
   "metadata": {},
   "outputs": [],
   "source": [
    "from tqdm import tqdm"
   ]
  },
  {
   "cell_type": "code",
   "execution_count": 20,
   "metadata": {
    "scrolled": true
   },
   "outputs": [
    {
     "name": "stderr",
     "output_type": "stream",
     "text": [
      "100%|█████████████████████████████████████████████████████████████████████████| 20000/20000 [19:49<00:00, 16.82it/s]"
     ]
    },
    {
     "name": "stdout",
     "output_type": "stream",
     "text": [
      "CPU times: total: 19min 45s\n",
      "Wall time: 19min 49s\n"
     ]
    },
    {
     "name": "stderr",
     "output_type": "stream",
     "text": [
      "\n"
     ]
    },
    {
     "data": {
      "text/plain": [
       "20000"
      ]
     },
     "execution_count": 20,
     "metadata": {},
     "output_type": "execute_result"
    }
   ],
   "source": [
    "%%time\n",
    "\n",
    "list_of_dictionaries = []\n",
    "\n",
    "for row in tqdm( range(len(sample.target)) ): # all 20000 rows\n",
    "    row_dict = {}\n",
    "    for word in list(words): # columns in top_5000_words_df_t\n",
    "        row_dict[word] = top_5000_words_df_t[word].iloc[row]\n",
    "    list_of_dictionaries.append(row_dict)\n",
    "len(list_of_dictionaries)"
   ]
  },
  {
   "cell_type": "code",
   "execution_count": 21,
   "metadata": {},
   "outputs": [
    {
     "data": {
      "text/plain": [
       "True"
      ]
     },
     "execution_count": 21,
     "metadata": {},
     "output_type": "execute_result"
    }
   ],
   "source": [
    "list_of_dictionaries[2]['day']"
   ]
  },
  {
   "cell_type": "code",
   "execution_count": 22,
   "metadata": {},
   "outputs": [
    {
     "data": {
      "text/plain": [
       "5000"
      ]
     },
     "execution_count": 22,
     "metadata": {},
     "output_type": "execute_result"
    }
   ],
   "source": [
    "len(list_of_dictionaries[2])"
   ]
  },
  {
   "cell_type": "code",
   "execution_count": 23,
   "metadata": {},
   "outputs": [],
   "source": [
    "target_list = sample.target.replace({0:False, 4:True})\n",
    "\n",
    "feature_set = list(zip(list_of_dictionaries, target_list))"
   ]
  },
  {
   "cell_type": "code",
   "execution_count": null,
   "metadata": {},
   "outputs": [],
   "source": [
    "# feature_set[0:2]"
   ]
  },
  {
   "cell_type": "code",
   "execution_count": 24,
   "metadata": {},
   "outputs": [
    {
     "data": {
      "text/plain": [
       "1062048    4\n",
       "1236895    4\n",
       "1237054    4\n",
       "229979     0\n",
       "760772     0\n",
       "Name: target, dtype: int64"
      ]
     },
     "execution_count": 24,
     "metadata": {},
     "output_type": "execute_result"
    }
   ],
   "source": [
    "sample.target.iloc[0:5]"
   ]
  },
  {
   "cell_type": "code",
   "execution_count": 25,
   "metadata": {},
   "outputs": [
    {
     "data": {
      "text/plain": [
       "True"
      ]
     },
     "metadata": {},
     "output_type": "display_data"
    },
    {
     "data": {
      "text/plain": [
       "True"
      ]
     },
     "metadata": {},
     "output_type": "display_data"
    },
    {
     "data": {
      "text/plain": [
       "True"
      ]
     },
     "metadata": {},
     "output_type": "display_data"
    },
    {
     "data": {
      "text/plain": [
       "False"
      ]
     },
     "metadata": {},
     "output_type": "display_data"
    },
    {
     "data": {
      "text/plain": [
       "False"
      ]
     },
     "metadata": {},
     "output_type": "display_data"
    }
   ],
   "source": [
    "display(feature_set[0][1])\n",
    "display(feature_set[1][1])\n",
    "display(feature_set[2][1])\n",
    "display(feature_set[3][1])\n",
    "display(feature_set[4][1])"
   ]
  },
  {
   "cell_type": "code",
   "execution_count": null,
   "metadata": {},
   "outputs": [],
   "source": [
    "# it has been transformed as needed"
   ]
  },
  {
   "cell_type": "markdown",
   "metadata": {},
   "source": [
    "### Building and Training Naive Bayes Model\n",
    "\n",
    "In this step you will split your feature set into a training and a test set. Then you will create a Bayes classifier instance using `nltk.NaiveBayesClassifier.train` ([example](https://www.nltk.org/book/ch06.html)) to train with the training dataset.\n",
    "\n",
    "After training the model, call `classifier.show_most_informative_features()` to inspect the most important features. The output will look like:\n",
    "\n",
    "```\n",
    "Most Informative Features\n",
    "\t    snow = True            False : True   =     34.3 : 1.0\n",
    "\t  easter = True            False : True   =     26.2 : 1.0\n",
    "\t headach = True            False : True   =     20.9 : 1.0\n",
    "\t    argh = True            False : True   =     17.6 : 1.0\n",
    "\tunfortun = True            False : True   =     16.9 : 1.0\n",
    "\t    jona = True             True : False  =     16.2 : 1.0\n",
    "\t     ach = True            False : True   =     14.9 : 1.0\n",
    "\t     sad = True            False : True   =     13.0 : 1.0\n",
    "\t  parent = True            False : True   =     12.9 : 1.0\n",
    "\t  spring = True            False : True   =     12.7 : 1.0\n",
    "```\n",
    "\n",
    "The [following video](https://www.youtube.com/watch?v=rISOsUaTrO4) will help you complete this step. The source code in this video can be found [here](https://pythonprogramming.net/naive-bayes-classifier-nltk-tutorial/)."
   ]
  },
  {
   "cell_type": "markdown",
   "metadata": {},
   "source": [
    "[![Building and Training NB](nb-model-building.jpg)](https://www.youtube.com/watch?v=rISOsUaTrO4)"
   ]
  },
  {
   "cell_type": "code",
   "execution_count": 26,
   "metadata": {},
   "outputs": [
    {
     "data": {
      "text/plain": [
       "16000"
      ]
     },
     "execution_count": 26,
     "metadata": {},
     "output_type": "execute_result"
    }
   ],
   "source": [
    "# take the first 80% of rows as training and the last 20% as validation\n",
    "\n",
    "training_index = int(len(feature_set)*0.8)\n",
    "\n",
    "train_data = feature_set[:training_index] # first 80%\n",
    "\n",
    "test_data = feature_set[training_index:] # last 20%\n",
    "\n",
    "len(train_data)"
   ]
  },
  {
   "cell_type": "code",
   "execution_count": 27,
   "metadata": {},
   "outputs": [],
   "source": [
    "from nltk import NaiveBayesClassifier"
   ]
  },
  {
   "cell_type": "code",
   "execution_count": 28,
   "metadata": {},
   "outputs": [
    {
     "name": "stdout",
     "output_type": "stream",
     "text": [
      "CPU times: total: 1min 11s\n",
      "Wall time: 1min 11s\n"
     ]
    }
   ],
   "source": [
    "%%time\n",
    "\n",
    "NBC = NaiveBayesClassifier.train(train_data)"
   ]
  },
  {
   "cell_type": "code",
   "execution_count": 31,
   "metadata": {},
   "outputs": [
    {
     "name": "stdout",
     "output_type": "stream",
     "text": [
      "Most Informative Features\n",
      "                horrible = True            False : True   =     19.2 : 1.0\n",
      "                    sick = True            False : True   =     18.8 : 1.0\n",
      "            disappointed = True            False : True   =     17.2 : 1.0\n",
      "                   worst = True            False : True   =     17.2 : 1.0\n",
      "                     vip = True             True : False  =     16.8 : 1.0\n",
      "                 welcome = True             True : False  =     12.8 : 1.0\n",
      "                  broken = True            False : True   =     12.8 : 1.0\n",
      "                headache = True            False : True   =     12.3 : 1.0\n",
      "                     fml = True            False : True   =     11.8 : 1.0\n",
      "               excellent = True             True : False  =     11.5 : 1.0\n",
      "                 missing = True            False : True   =     11.3 : 1.0\n",
      "                  lonely = True            False : True   =     11.1 : 1.0\n",
      "                    hurt = True            False : True   =     11.0 : 1.0\n",
      "                    leaf = True            False : True   =     10.5 : 1.0\n",
      "                   sadly = True            False : True   =     10.5 : 1.0\n",
      "                    sold = True            False : True   =     10.5 : 1.0\n",
      "           unfortunately = True            False : True   =     10.3 : 1.0\n",
      "                    poor = True            False : True   =     10.2 : 1.0\n",
      "                     sad = True            False : True   =      9.9 : 1.0\n",
      "                  doctor = True            False : True   =      9.8 : 1.0\n",
      "                     due = True            False : True   =      9.8 : 1.0\n",
      "                    isnt = True            False : True   =      9.8 : 1.0\n",
      "                  closed = True            False : True   =      9.8 : 1.0\n",
      "                    ache = True            False : True   =      9.1 : 1.0\n",
      "                    died = True            False : True   =      9.1 : 1.0\n",
      "                  throat = True            False : True   =      9.1 : 1.0\n",
      "                  afraid = True            False : True   =      9.1 : 1.0\n",
      "                     ugh = True            False : True   =      9.0 : 1.0\n",
      "                congrats = True             True : False  =      8.9 : 1.0\n",
      "                     heh = True             True : False  =      8.9 : 1.0\n",
      "                 dropped = True            False : True   =      8.4 : 1.0\n",
      "                     tip = True             True : False  =      8.2 : 1.0\n",
      "                  attack = True            False : True   =      7.8 : 1.0\n",
      "                  prolly = True            False : True   =      7.8 : 1.0\n",
      "                   thank = True             True : False  =      7.8 : 1.0\n",
      "                   quote = True             True : False  =      7.6 : 1.0\n",
      "                  system = True             True : False  =      7.6 : 1.0\n",
      "                   thanx = True             True : False  =      7.6 : 1.0\n",
      "                    hate = True            False : True   =      7.2 : 1.0\n",
      "              connection = True            False : True   =      7.1 : 1.0\n",
      "                 couldnt = True            False : True   =      7.1 : 1.0\n",
      "                    lame = True            False : True   =      7.1 : 1.0\n",
      "                   sarah = True            False : True   =      7.1 : 1.0\n",
      "                   stink = True            False : True   =      7.1 : 1.0\n",
      "                    desk = True            False : True   =      7.1 : 1.0\n",
      "                  stupid = True            False : True   =      7.0 : 1.0\n",
      "                adorable = True             True : False  =      6.9 : 1.0\n",
      "                     luv = True             True : False  =      6.9 : 1.0\n",
      "                 sharing = True             True : False  =      6.9 : 1.0\n",
      "                     thx = True             True : False  =      6.9 : 1.0\n"
     ]
    }
   ],
   "source": [
    "NBC.show_most_informative_features(50)"
   ]
  },
  {
   "cell_type": "code",
   "execution_count": null,
   "metadata": {},
   "outputs": [],
   "source": [
    "# very strong correlation on some words to suggest negativity\n",
    "# mainly relating to illness, death, absence and so on\n",
    "\n",
    "# likewise the strongest postive correlation relates to thanking someone\n",
    "# also welcoming, congratulating, and positive superlatives like \"excellent\""
   ]
  },
  {
   "cell_type": "markdown",
   "metadata": {},
   "source": [
    "### Testing Naive Bayes Model\n",
    "\n",
    "Now we'll test our classifier with the test dataset. This is done by calling `nltk.classify.accuracy(classifier, test)`.\n",
    "\n",
    "As mentioned in one of the tutorial videos, a Naive Bayes model is considered OK if your accuracy score is over 0.6. If your accuracy score is over 0.7, you've done a great job!"
   ]
  },
  {
   "cell_type": "code",
   "execution_count": 30,
   "metadata": {},
   "outputs": [
    {
     "name": "stdout",
     "output_type": "stream",
     "text": [
      "NBC model accuracy:  0.7255\n",
      "CPU times: total: 48.5 s\n",
      "Wall time: 48.8 s\n"
     ]
    }
   ],
   "source": [
    "%%time\n",
    "\n",
    "from nltk import classify\n",
    "\n",
    "print(\"NBC model accuracy: \", classify.accuracy(NBC, test_data))"
   ]
  },
  {
   "cell_type": "code",
   "execution_count": null,
   "metadata": {},
   "outputs": [],
   "source": [
    "# accuracy only 72.5% so a good model, however still space for improvement"
   ]
  },
  {
   "cell_type": "code",
   "execution_count": null,
   "metadata": {},
   "outputs": [],
   "source": [
    "# in the top 5000 words, we still see \"got\", \"get\", \"wa\", \"go\"\n",
    "# these words are unlikely to add much value to the model\n",
    "# so trimming columns might help reduce noise\n",
    "\n",
    "# preparing my list_of_dictionaries took 20 minutes, so we could improve the model\n",
    "# by including 10x more training rows and running this overnight"
   ]
  },
  {
   "cell_type": "markdown",
   "metadata": {},
   "source": [
    "## Bonus Question 1: Improve Model Performance\n",
    "\n",
    "If you are still not exhausted so far and want to dig deeper, try to improve your classifier performance. There are many aspects you can dig into, for example:\n",
    "\n",
    "* Improve stemming and lemmatization. Inspect your bag of words and the most important features. Are there any words you should furuther remove from analysis? You can append these words to further remove to the stop words list.\n",
    "\n",
    "* Remember we only used the top 5,000 features to build model? Try using different numbers of top features. The bottom line is to use as few features as you can without compromising your model performance. The fewer features you select into your model, the faster your model is trained. Then you can use a larger sample size to improve your model accuracy score."
   ]
  },
  {
   "cell_type": "code",
   "execution_count": null,
   "metadata": {},
   "outputs": [],
   "source": [
    "# your code here"
   ]
  },
  {
   "cell_type": "markdown",
   "metadata": {},
   "source": [
    "## Bonus Question 2: Machine Learning Pipeline\n",
    "\n",
    "In a new Jupyter Notebook, combine all your codes into a function (or a class). Your new function will execute the complete machine learning pipeline job by receiving the dataset location and output the classifier. This will allow you to use your function to predict the sentiment of any tweet in real time. "
   ]
  },
  {
   "cell_type": "code",
   "execution_count": null,
   "metadata": {},
   "outputs": [],
   "source": [
    "# your code here"
   ]
  },
  {
   "cell_type": "markdown",
   "metadata": {},
   "source": [
    "## Bonus Question 3: Apache Spark\n",
    "\n",
    "If you have completed the Apache Spark advanced topic lab, what you can do is to migrate your pipeline from local to a Databricks Notebook. Share your notebook with your instructor and classmates to show off your achievements!"
   ]
  },
  {
   "cell_type": "code",
   "execution_count": null,
   "metadata": {},
   "outputs": [],
   "source": [
    "# your code here"
   ]
  }
 ],
 "metadata": {
  "kernelspec": {
   "display_name": "Python 3 (ipykernel)",
   "language": "python",
   "name": "python3"
  },
  "language_info": {
   "codemirror_mode": {
    "name": "ipython",
    "version": 3
   },
   "file_extension": ".py",
   "mimetype": "text/x-python",
   "name": "python",
   "nbconvert_exporter": "python",
   "pygments_lexer": "ipython3",
   "version": "3.10.9"
  }
 },
 "nbformat": 4,
 "nbformat_minor": 2
}
